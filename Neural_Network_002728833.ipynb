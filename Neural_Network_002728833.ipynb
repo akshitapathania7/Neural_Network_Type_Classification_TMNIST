{
  "nbformat": 4,
  "nbformat_minor": 0,
  "metadata": {
    "colab": {
      "provenance": [],
      "gpuType": "T4"
    },
    "kernelspec": {
      "name": "python3",
      "display_name": "Python 3"
    },
    "language_info": {
      "name": "python"
    },
    "accelerator": "GPU"
  },
  "cells": [
    {
      "cell_type": "markdown",
      "source": [
        "#**Neural Network Type Classification | TMNIST**\n",
        "\n",
        "##**Dataset Used:**\n",
        "\n",
        "Typography MNIST (TMNIST) with 94 characters and over 281,000 images\n",
        "\n",
        "https://www.kaggle.com/nikbearbrown/tmnist-alphabet-94-characters/Links to an external site.\n",
        "\n",
        "##**Abstract:**\n",
        "\n",
        "This notebook outlines approaches for implementing neural networks to recognize digits on the MNIST dataset. Most deep learning frameworks have APIs for loading famous datasets like MNIST. However, when moving from an example dataset to the real data, we need to convert our training data into a format that the deep learning framework can accept."
      ],
      "metadata": {
        "id": "A31nmzgVECQx"
      }
    },
    {
      "cell_type": "code",
      "execution_count": 1,
      "metadata": {
        "id": "_rO9c0L_8e-I"
      },
      "outputs": [],
      "source": [
        "import pandas as pd\n",
        "import numpy as np\n",
        "from sklearn.model_selection import train_test_split\n",
        "from tensorflow.keras.models import Sequential\n",
        "from tensorflow.keras.layers import *\n",
        "from tensorflow.keras.optimizers import Adam\n",
        "import matplotlib.pyplot as plt\n",
        "from sklearn.preprocessing import OneHotEncoder\n",
        "from tensorflow.keras.applications import VGG16\n",
        "import warnings\n",
        "warnings.filterwarnings(\"ignore\")\n",
        "\n",
        "from tensorflow.keras import backend as K\n",
        "K.clear_session()\n",
        "\n"
      ]
    },
    {
      "cell_type": "markdown",
      "source": [
        "Importing the dataset"
      ],
      "metadata": {
        "id": "8rPR8U7RFiiq"
      }
    },
    {
      "cell_type": "code",
      "source": [
        "#reading the dataset\n",
        "df=pd.read_csv('https://media.githubusercontent.com/media/akshitapathania7/Neural_Network_Type_Classification_TMNIST/main/94_character_TMNIST.csv')\n",
        "df.head(10)"
      ],
      "metadata": {
        "colab": {
          "base_uri": "https://localhost:8080/",
          "height": 392
        },
        "id": "GPgkZ6wM8kYZ",
        "outputId": "1d0f1beb-1999-47c9-a31f-6be3ef7cda90"
      },
      "execution_count": 2,
      "outputs": [
        {
          "output_type": "execute_result",
          "data": {
            "text/plain": [
              "                       names labels    1    2    3    4    5    6    7    8  \\\n",
              "0              Salsa-Regular      6  0.0  0.0  0.0  0.0  0.0  0.0  0.0  0.0   \n",
              "1       MouseMemoirs-Regular      D  0.0  0.0  0.0  0.0  0.0  0.0  0.0  0.0   \n",
              "2          Creepster-Regular      f  0.0  0.0  0.0  0.0  0.0  0.0  0.0  0.0   \n",
              "3          SeoulNamsan-Light      /  0.0  0.0  0.0  0.0  0.0  0.0  0.0  0.0   \n",
              "4       HachiMaruPop-Regular      F  0.0  0.0  0.0  0.0  0.0  0.0  0.0  0.0   \n",
              "5          Livvic-BoldItalic      x  0.0  0.0  0.0  0.0  0.0  0.0  0.0  0.0   \n",
              "6          Sarabun-ExtraBold      J  0.0  0.0  0.0  0.0  0.0  0.0  0.0  0.0   \n",
              "7             FiraSans-Light      8  0.0  0.0  0.0  0.0  0.0  0.0  0.0  0.0   \n",
              "8  AlegreyaSansSC-BoldItalic      H  0.0  0.0  0.0  0.0  0.0  0.0  0.0  0.0   \n",
              "9          NotoSerifSC-Light      k  0.0  0.0  0.0  0.0  0.0  0.0  0.0  0.0   \n",
              "\n",
              "   ...  775  776  777  778  779  780  781  782  783  784  \n",
              "0  ...  0.0  0.0  0.0  0.0  0.0  0.0  0.0  0.0  0.0  0.0  \n",
              "1  ...  0.0  0.0  0.0  0.0  0.0  0.0  0.0  0.0  0.0  0.0  \n",
              "2  ...  0.0  0.0  0.0  0.0  0.0  0.0  0.0  0.0  0.0  0.0  \n",
              "3  ...  0.0  0.0  0.0  0.0  0.0  0.0  0.0  0.0  0.0  0.0  \n",
              "4  ...  0.0  0.0  0.0  0.0  0.0  0.0  0.0  0.0  0.0  0.0  \n",
              "5  ...  0.0  0.0  0.0  0.0  0.0  0.0  0.0  0.0  0.0  0.0  \n",
              "6  ...  0.0  0.0  0.0  0.0  0.0  0.0  0.0  0.0  0.0  0.0  \n",
              "7  ...  0.0  0.0  0.0  0.0  0.0  0.0  0.0  0.0  0.0  0.0  \n",
              "8  ...  0.0  0.0  0.0  0.0  0.0  0.0  0.0  0.0  0.0  0.0  \n",
              "9  ...  0.0  0.0  0.0  0.0  0.0  0.0  0.0  0.0  0.0  0.0  \n",
              "\n",
              "[10 rows x 786 columns]"
            ],
            "text/html": [
              "\n",
              "  <div id=\"df-17a6070a-fe95-458e-9670-7d8d4a69ba26\" class=\"colab-df-container\">\n",
              "    <div>\n",
              "<style scoped>\n",
              "    .dataframe tbody tr th:only-of-type {\n",
              "        vertical-align: middle;\n",
              "    }\n",
              "\n",
              "    .dataframe tbody tr th {\n",
              "        vertical-align: top;\n",
              "    }\n",
              "\n",
              "    .dataframe thead th {\n",
              "        text-align: right;\n",
              "    }\n",
              "</style>\n",
              "<table border=\"1\" class=\"dataframe\">\n",
              "  <thead>\n",
              "    <tr style=\"text-align: right;\">\n",
              "      <th></th>\n",
              "      <th>names</th>\n",
              "      <th>labels</th>\n",
              "      <th>1</th>\n",
              "      <th>2</th>\n",
              "      <th>3</th>\n",
              "      <th>4</th>\n",
              "      <th>5</th>\n",
              "      <th>6</th>\n",
              "      <th>7</th>\n",
              "      <th>8</th>\n",
              "      <th>...</th>\n",
              "      <th>775</th>\n",
              "      <th>776</th>\n",
              "      <th>777</th>\n",
              "      <th>778</th>\n",
              "      <th>779</th>\n",
              "      <th>780</th>\n",
              "      <th>781</th>\n",
              "      <th>782</th>\n",
              "      <th>783</th>\n",
              "      <th>784</th>\n",
              "    </tr>\n",
              "  </thead>\n",
              "  <tbody>\n",
              "    <tr>\n",
              "      <th>0</th>\n",
              "      <td>Salsa-Regular</td>\n",
              "      <td>6</td>\n",
              "      <td>0.0</td>\n",
              "      <td>0.0</td>\n",
              "      <td>0.0</td>\n",
              "      <td>0.0</td>\n",
              "      <td>0.0</td>\n",
              "      <td>0.0</td>\n",
              "      <td>0.0</td>\n",
              "      <td>0.0</td>\n",
              "      <td>...</td>\n",
              "      <td>0.0</td>\n",
              "      <td>0.0</td>\n",
              "      <td>0.0</td>\n",
              "      <td>0.0</td>\n",
              "      <td>0.0</td>\n",
              "      <td>0.0</td>\n",
              "      <td>0.0</td>\n",
              "      <td>0.0</td>\n",
              "      <td>0.0</td>\n",
              "      <td>0.0</td>\n",
              "    </tr>\n",
              "    <tr>\n",
              "      <th>1</th>\n",
              "      <td>MouseMemoirs-Regular</td>\n",
              "      <td>D</td>\n",
              "      <td>0.0</td>\n",
              "      <td>0.0</td>\n",
              "      <td>0.0</td>\n",
              "      <td>0.0</td>\n",
              "      <td>0.0</td>\n",
              "      <td>0.0</td>\n",
              "      <td>0.0</td>\n",
              "      <td>0.0</td>\n",
              "      <td>...</td>\n",
              "      <td>0.0</td>\n",
              "      <td>0.0</td>\n",
              "      <td>0.0</td>\n",
              "      <td>0.0</td>\n",
              "      <td>0.0</td>\n",
              "      <td>0.0</td>\n",
              "      <td>0.0</td>\n",
              "      <td>0.0</td>\n",
              "      <td>0.0</td>\n",
              "      <td>0.0</td>\n",
              "    </tr>\n",
              "    <tr>\n",
              "      <th>2</th>\n",
              "      <td>Creepster-Regular</td>\n",
              "      <td>f</td>\n",
              "      <td>0.0</td>\n",
              "      <td>0.0</td>\n",
              "      <td>0.0</td>\n",
              "      <td>0.0</td>\n",
              "      <td>0.0</td>\n",
              "      <td>0.0</td>\n",
              "      <td>0.0</td>\n",
              "      <td>0.0</td>\n",
              "      <td>...</td>\n",
              "      <td>0.0</td>\n",
              "      <td>0.0</td>\n",
              "      <td>0.0</td>\n",
              "      <td>0.0</td>\n",
              "      <td>0.0</td>\n",
              "      <td>0.0</td>\n",
              "      <td>0.0</td>\n",
              "      <td>0.0</td>\n",
              "      <td>0.0</td>\n",
              "      <td>0.0</td>\n",
              "    </tr>\n",
              "    <tr>\n",
              "      <th>3</th>\n",
              "      <td>SeoulNamsan-Light</td>\n",
              "      <td>/</td>\n",
              "      <td>0.0</td>\n",
              "      <td>0.0</td>\n",
              "      <td>0.0</td>\n",
              "      <td>0.0</td>\n",
              "      <td>0.0</td>\n",
              "      <td>0.0</td>\n",
              "      <td>0.0</td>\n",
              "      <td>0.0</td>\n",
              "      <td>...</td>\n",
              "      <td>0.0</td>\n",
              "      <td>0.0</td>\n",
              "      <td>0.0</td>\n",
              "      <td>0.0</td>\n",
              "      <td>0.0</td>\n",
              "      <td>0.0</td>\n",
              "      <td>0.0</td>\n",
              "      <td>0.0</td>\n",
              "      <td>0.0</td>\n",
              "      <td>0.0</td>\n",
              "    </tr>\n",
              "    <tr>\n",
              "      <th>4</th>\n",
              "      <td>HachiMaruPop-Regular</td>\n",
              "      <td>F</td>\n",
              "      <td>0.0</td>\n",
              "      <td>0.0</td>\n",
              "      <td>0.0</td>\n",
              "      <td>0.0</td>\n",
              "      <td>0.0</td>\n",
              "      <td>0.0</td>\n",
              "      <td>0.0</td>\n",
              "      <td>0.0</td>\n",
              "      <td>...</td>\n",
              "      <td>0.0</td>\n",
              "      <td>0.0</td>\n",
              "      <td>0.0</td>\n",
              "      <td>0.0</td>\n",
              "      <td>0.0</td>\n",
              "      <td>0.0</td>\n",
              "      <td>0.0</td>\n",
              "      <td>0.0</td>\n",
              "      <td>0.0</td>\n",
              "      <td>0.0</td>\n",
              "    </tr>\n",
              "    <tr>\n",
              "      <th>5</th>\n",
              "      <td>Livvic-BoldItalic</td>\n",
              "      <td>x</td>\n",
              "      <td>0.0</td>\n",
              "      <td>0.0</td>\n",
              "      <td>0.0</td>\n",
              "      <td>0.0</td>\n",
              "      <td>0.0</td>\n",
              "      <td>0.0</td>\n",
              "      <td>0.0</td>\n",
              "      <td>0.0</td>\n",
              "      <td>...</td>\n",
              "      <td>0.0</td>\n",
              "      <td>0.0</td>\n",
              "      <td>0.0</td>\n",
              "      <td>0.0</td>\n",
              "      <td>0.0</td>\n",
              "      <td>0.0</td>\n",
              "      <td>0.0</td>\n",
              "      <td>0.0</td>\n",
              "      <td>0.0</td>\n",
              "      <td>0.0</td>\n",
              "    </tr>\n",
              "    <tr>\n",
              "      <th>6</th>\n",
              "      <td>Sarabun-ExtraBold</td>\n",
              "      <td>J</td>\n",
              "      <td>0.0</td>\n",
              "      <td>0.0</td>\n",
              "      <td>0.0</td>\n",
              "      <td>0.0</td>\n",
              "      <td>0.0</td>\n",
              "      <td>0.0</td>\n",
              "      <td>0.0</td>\n",
              "      <td>0.0</td>\n",
              "      <td>...</td>\n",
              "      <td>0.0</td>\n",
              "      <td>0.0</td>\n",
              "      <td>0.0</td>\n",
              "      <td>0.0</td>\n",
              "      <td>0.0</td>\n",
              "      <td>0.0</td>\n",
              "      <td>0.0</td>\n",
              "      <td>0.0</td>\n",
              "      <td>0.0</td>\n",
              "      <td>0.0</td>\n",
              "    </tr>\n",
              "    <tr>\n",
              "      <th>7</th>\n",
              "      <td>FiraSans-Light</td>\n",
              "      <td>8</td>\n",
              "      <td>0.0</td>\n",
              "      <td>0.0</td>\n",
              "      <td>0.0</td>\n",
              "      <td>0.0</td>\n",
              "      <td>0.0</td>\n",
              "      <td>0.0</td>\n",
              "      <td>0.0</td>\n",
              "      <td>0.0</td>\n",
              "      <td>...</td>\n",
              "      <td>0.0</td>\n",
              "      <td>0.0</td>\n",
              "      <td>0.0</td>\n",
              "      <td>0.0</td>\n",
              "      <td>0.0</td>\n",
              "      <td>0.0</td>\n",
              "      <td>0.0</td>\n",
              "      <td>0.0</td>\n",
              "      <td>0.0</td>\n",
              "      <td>0.0</td>\n",
              "    </tr>\n",
              "    <tr>\n",
              "      <th>8</th>\n",
              "      <td>AlegreyaSansSC-BoldItalic</td>\n",
              "      <td>H</td>\n",
              "      <td>0.0</td>\n",
              "      <td>0.0</td>\n",
              "      <td>0.0</td>\n",
              "      <td>0.0</td>\n",
              "      <td>0.0</td>\n",
              "      <td>0.0</td>\n",
              "      <td>0.0</td>\n",
              "      <td>0.0</td>\n",
              "      <td>...</td>\n",
              "      <td>0.0</td>\n",
              "      <td>0.0</td>\n",
              "      <td>0.0</td>\n",
              "      <td>0.0</td>\n",
              "      <td>0.0</td>\n",
              "      <td>0.0</td>\n",
              "      <td>0.0</td>\n",
              "      <td>0.0</td>\n",
              "      <td>0.0</td>\n",
              "      <td>0.0</td>\n",
              "    </tr>\n",
              "    <tr>\n",
              "      <th>9</th>\n",
              "      <td>NotoSerifSC-Light</td>\n",
              "      <td>k</td>\n",
              "      <td>0.0</td>\n",
              "      <td>0.0</td>\n",
              "      <td>0.0</td>\n",
              "      <td>0.0</td>\n",
              "      <td>0.0</td>\n",
              "      <td>0.0</td>\n",
              "      <td>0.0</td>\n",
              "      <td>0.0</td>\n",
              "      <td>...</td>\n",
              "      <td>0.0</td>\n",
              "      <td>0.0</td>\n",
              "      <td>0.0</td>\n",
              "      <td>0.0</td>\n",
              "      <td>0.0</td>\n",
              "      <td>0.0</td>\n",
              "      <td>0.0</td>\n",
              "      <td>0.0</td>\n",
              "      <td>0.0</td>\n",
              "      <td>0.0</td>\n",
              "    </tr>\n",
              "  </tbody>\n",
              "</table>\n",
              "<p>10 rows × 786 columns</p>\n",
              "</div>\n",
              "    <div class=\"colab-df-buttons\">\n",
              "\n",
              "  <div class=\"colab-df-container\">\n",
              "    <button class=\"colab-df-convert\" onclick=\"convertToInteractive('df-17a6070a-fe95-458e-9670-7d8d4a69ba26')\"\n",
              "            title=\"Convert this dataframe to an interactive table.\"\n",
              "            style=\"display:none;\">\n",
              "\n",
              "  <svg xmlns=\"http://www.w3.org/2000/svg\" height=\"24px\" viewBox=\"0 -960 960 960\">\n",
              "    <path d=\"M120-120v-720h720v720H120Zm60-500h600v-160H180v160Zm220 220h160v-160H400v160Zm0 220h160v-160H400v160ZM180-400h160v-160H180v160Zm440 0h160v-160H620v160ZM180-180h160v-160H180v160Zm440 0h160v-160H620v160Z\"/>\n",
              "  </svg>\n",
              "    </button>\n",
              "\n",
              "  <style>\n",
              "    .colab-df-container {\n",
              "      display:flex;\n",
              "      gap: 12px;\n",
              "    }\n",
              "\n",
              "    .colab-df-convert {\n",
              "      background-color: #E8F0FE;\n",
              "      border: none;\n",
              "      border-radius: 50%;\n",
              "      cursor: pointer;\n",
              "      display: none;\n",
              "      fill: #1967D2;\n",
              "      height: 32px;\n",
              "      padding: 0 0 0 0;\n",
              "      width: 32px;\n",
              "    }\n",
              "\n",
              "    .colab-df-convert:hover {\n",
              "      background-color: #E2EBFA;\n",
              "      box-shadow: 0px 1px 2px rgba(60, 64, 67, 0.3), 0px 1px 3px 1px rgba(60, 64, 67, 0.15);\n",
              "      fill: #174EA6;\n",
              "    }\n",
              "\n",
              "    .colab-df-buttons div {\n",
              "      margin-bottom: 4px;\n",
              "    }\n",
              "\n",
              "    [theme=dark] .colab-df-convert {\n",
              "      background-color: #3B4455;\n",
              "      fill: #D2E3FC;\n",
              "    }\n",
              "\n",
              "    [theme=dark] .colab-df-convert:hover {\n",
              "      background-color: #434B5C;\n",
              "      box-shadow: 0px 1px 3px 1px rgba(0, 0, 0, 0.15);\n",
              "      filter: drop-shadow(0px 1px 2px rgba(0, 0, 0, 0.3));\n",
              "      fill: #FFFFFF;\n",
              "    }\n",
              "  </style>\n",
              "\n",
              "    <script>\n",
              "      const buttonEl =\n",
              "        document.querySelector('#df-17a6070a-fe95-458e-9670-7d8d4a69ba26 button.colab-df-convert');\n",
              "      buttonEl.style.display =\n",
              "        google.colab.kernel.accessAllowed ? 'block' : 'none';\n",
              "\n",
              "      async function convertToInteractive(key) {\n",
              "        const element = document.querySelector('#df-17a6070a-fe95-458e-9670-7d8d4a69ba26');\n",
              "        const dataTable =\n",
              "          await google.colab.kernel.invokeFunction('convertToInteractive',\n",
              "                                                    [key], {});\n",
              "        if (!dataTable) return;\n",
              "\n",
              "        const docLinkHtml = 'Like what you see? Visit the ' +\n",
              "          '<a target=\"_blank\" href=https://colab.research.google.com/notebooks/data_table.ipynb>data table notebook</a>'\n",
              "          + ' to learn more about interactive tables.';\n",
              "        element.innerHTML = '';\n",
              "        dataTable['output_type'] = 'display_data';\n",
              "        await google.colab.output.renderOutput(dataTable, element);\n",
              "        const docLink = document.createElement('div');\n",
              "        docLink.innerHTML = docLinkHtml;\n",
              "        element.appendChild(docLink);\n",
              "      }\n",
              "    </script>\n",
              "  </div>\n",
              "\n",
              "\n",
              "<div id=\"df-5ae05893-c164-43cb-b39e-b54e44c8b83d\">\n",
              "  <button class=\"colab-df-quickchart\" onclick=\"quickchart('df-5ae05893-c164-43cb-b39e-b54e44c8b83d')\"\n",
              "            title=\"Suggest charts\"\n",
              "            style=\"display:none;\">\n",
              "\n",
              "<svg xmlns=\"http://www.w3.org/2000/svg\" height=\"24px\"viewBox=\"0 0 24 24\"\n",
              "     width=\"24px\">\n",
              "    <g>\n",
              "        <path d=\"M19 3H5c-1.1 0-2 .9-2 2v14c0 1.1.9 2 2 2h14c1.1 0 2-.9 2-2V5c0-1.1-.9-2-2-2zM9 17H7v-7h2v7zm4 0h-2V7h2v10zm4 0h-2v-4h2v4z\"/>\n",
              "    </g>\n",
              "</svg>\n",
              "  </button>\n",
              "\n",
              "<style>\n",
              "  .colab-df-quickchart {\n",
              "      --bg-color: #E8F0FE;\n",
              "      --fill-color: #1967D2;\n",
              "      --hover-bg-color: #E2EBFA;\n",
              "      --hover-fill-color: #174EA6;\n",
              "      --disabled-fill-color: #AAA;\n",
              "      --disabled-bg-color: #DDD;\n",
              "  }\n",
              "\n",
              "  [theme=dark] .colab-df-quickchart {\n",
              "      --bg-color: #3B4455;\n",
              "      --fill-color: #D2E3FC;\n",
              "      --hover-bg-color: #434B5C;\n",
              "      --hover-fill-color: #FFFFFF;\n",
              "      --disabled-bg-color: #3B4455;\n",
              "      --disabled-fill-color: #666;\n",
              "  }\n",
              "\n",
              "  .colab-df-quickchart {\n",
              "    background-color: var(--bg-color);\n",
              "    border: none;\n",
              "    border-radius: 50%;\n",
              "    cursor: pointer;\n",
              "    display: none;\n",
              "    fill: var(--fill-color);\n",
              "    height: 32px;\n",
              "    padding: 0;\n",
              "    width: 32px;\n",
              "  }\n",
              "\n",
              "  .colab-df-quickchart:hover {\n",
              "    background-color: var(--hover-bg-color);\n",
              "    box-shadow: 0 1px 2px rgba(60, 64, 67, 0.3), 0 1px 3px 1px rgba(60, 64, 67, 0.15);\n",
              "    fill: var(--button-hover-fill-color);\n",
              "  }\n",
              "\n",
              "  .colab-df-quickchart-complete:disabled,\n",
              "  .colab-df-quickchart-complete:disabled:hover {\n",
              "    background-color: var(--disabled-bg-color);\n",
              "    fill: var(--disabled-fill-color);\n",
              "    box-shadow: none;\n",
              "  }\n",
              "\n",
              "  .colab-df-spinner {\n",
              "    border: 2px solid var(--fill-color);\n",
              "    border-color: transparent;\n",
              "    border-bottom-color: var(--fill-color);\n",
              "    animation:\n",
              "      spin 1s steps(1) infinite;\n",
              "  }\n",
              "\n",
              "  @keyframes spin {\n",
              "    0% {\n",
              "      border-color: transparent;\n",
              "      border-bottom-color: var(--fill-color);\n",
              "      border-left-color: var(--fill-color);\n",
              "    }\n",
              "    20% {\n",
              "      border-color: transparent;\n",
              "      border-left-color: var(--fill-color);\n",
              "      border-top-color: var(--fill-color);\n",
              "    }\n",
              "    30% {\n",
              "      border-color: transparent;\n",
              "      border-left-color: var(--fill-color);\n",
              "      border-top-color: var(--fill-color);\n",
              "      border-right-color: var(--fill-color);\n",
              "    }\n",
              "    40% {\n",
              "      border-color: transparent;\n",
              "      border-right-color: var(--fill-color);\n",
              "      border-top-color: var(--fill-color);\n",
              "    }\n",
              "    60% {\n",
              "      border-color: transparent;\n",
              "      border-right-color: var(--fill-color);\n",
              "    }\n",
              "    80% {\n",
              "      border-color: transparent;\n",
              "      border-right-color: var(--fill-color);\n",
              "      border-bottom-color: var(--fill-color);\n",
              "    }\n",
              "    90% {\n",
              "      border-color: transparent;\n",
              "      border-bottom-color: var(--fill-color);\n",
              "    }\n",
              "  }\n",
              "</style>\n",
              "\n",
              "  <script>\n",
              "    async function quickchart(key) {\n",
              "      const quickchartButtonEl =\n",
              "        document.querySelector('#' + key + ' button');\n",
              "      quickchartButtonEl.disabled = true;  // To prevent multiple clicks.\n",
              "      quickchartButtonEl.classList.add('colab-df-spinner');\n",
              "      try {\n",
              "        const charts = await google.colab.kernel.invokeFunction(\n",
              "            'suggestCharts', [key], {});\n",
              "      } catch (error) {\n",
              "        console.error('Error during call to suggestCharts:', error);\n",
              "      }\n",
              "      quickchartButtonEl.classList.remove('colab-df-spinner');\n",
              "      quickchartButtonEl.classList.add('colab-df-quickchart-complete');\n",
              "    }\n",
              "    (() => {\n",
              "      let quickchartButtonEl =\n",
              "        document.querySelector('#df-5ae05893-c164-43cb-b39e-b54e44c8b83d button');\n",
              "      quickchartButtonEl.style.display =\n",
              "        google.colab.kernel.accessAllowed ? 'block' : 'none';\n",
              "    })();\n",
              "  </script>\n",
              "</div>\n",
              "    </div>\n",
              "  </div>\n"
            ]
          },
          "metadata": {},
          "execution_count": 2
        }
      ]
    },
    {
      "cell_type": "markdown",
      "source": [
        "TMNIST, as we can see, is a large dataset of handwritten alphabets, digits and special characters that is commonly used for training various image processing systems.\n"
      ],
      "metadata": {
        "id": "4iUP7nkyFoCm"
      }
    },
    {
      "cell_type": "code",
      "source": [
        "#printing the size of dataframe\n",
        "print('The total number of rows in datafame:', df.shape[0])\n",
        "print('The total number of columns in datafame:', df.shape[1])"
      ],
      "metadata": {
        "colab": {
          "base_uri": "https://localhost:8080/"
        },
        "id": "S7eF_MpO8mI7",
        "outputId": "ca37e764-6bc2-4444-f097-74642255ff31"
      },
      "execution_count": 3,
      "outputs": [
        {
          "output_type": "stream",
          "name": "stdout",
          "text": [
            "The total number of rows in datafame: 274093\n",
            "The total number of columns in datafame: 786\n"
          ]
        }
      ]
    },
    {
      "cell_type": "code",
      "source": [
        "#printing the total number of unique classes in the dataframe\n",
        "number_classes = df['labels'].nunique()\n",
        "print('The total number of classes are:', number_classes)"
      ],
      "metadata": {
        "colab": {
          "base_uri": "https://localhost:8080/"
        },
        "id": "y816RWdE8o_A",
        "outputId": "dc7596b0-09cd-4072-ef24-107f30364425"
      },
      "execution_count": 4,
      "outputs": [
        {
          "output_type": "stream",
          "name": "stdout",
          "text": [
            "The total number of classes are: 94\n"
          ]
        }
      ]
    },
    {
      "cell_type": "code",
      "source": [
        "#printing every unique class present in the dataframe\n",
        "unique_classes = df['labels'].unique()\n",
        "print('The unique classes are:')\n",
        "print(unique_classes)"
      ],
      "metadata": {
        "colab": {
          "base_uri": "https://localhost:8080/"
        },
        "id": "3hCSURVu8sNY",
        "outputId": "d8c2badc-a2ef-429a-dc0f-9588e163082c"
      },
      "execution_count": 5,
      "outputs": [
        {
          "output_type": "stream",
          "name": "stdout",
          "text": [
            "The unique classes are:\n",
            "['6' 'D' 'f' '/' 'F' 'x' 'J' '8' 'H' 'k' '@' '1' '=' 'g' ')' '2' 'd' '^'\n",
            " '3' 't' '#' '.' '4' 'o' '\"' 'y' 'A' 'u' 'G' '-' 'm' 'W' '&' 'c' '9' 'N'\n",
            " ']' 'P' 'X' '|' '}' 'h' '7' 'j' '5' '>' '?' 'b' '*' 'w' 'l' '0' '$' 'I'\n",
            " 'Y' '%' ':' 'T' 'K' 'E' '<' 'V' '{' 'M' 'S' 'a' 'i' 'r' \"'\" 'p' ';' '['\n",
            " '+' 'e' 'U' '(' 's' '~' ',' 'C' 'q' '_' 'n' 'B' 'z' 'v' 'O' 'R' '`' 'Z'\n",
            " 'Q' 'L' '!' '\\\\']\n"
          ]
        }
      ]
    },
    {
      "cell_type": "code",
      "source": [
        "#getting the total number of font types present in the data\n",
        "number_font = df['names'].nunique()\n",
        "print('The total number of different type of fonts present are:', number_font)"
      ],
      "metadata": {
        "colab": {
          "base_uri": "https://localhost:8080/"
        },
        "id": "cKaq8Mtc8uKx",
        "outputId": "40b8605d-75e9-4254-f4fc-7ebf9a75c382"
      },
      "execution_count": 6,
      "outputs": [
        {
          "output_type": "stream",
          "name": "stdout",
          "text": [
            "The total number of different type of fonts present are: 2990\n"
          ]
        }
      ]
    },
    {
      "cell_type": "code",
      "source": [
        "#defining the class column and removing other unnecessary columns\n",
        "y=df['labels']\n",
        "X=df.drop(['names','labels'],axis=1)\n",
        "\n",
        "#displaying the plot of the values with their corresponding labels\n",
        "plt.figure(figsize=(15, 6))\n",
        "for i in range(15):\n",
        "  plt.subplot(3,5,i+1)\n",
        "  plt.title(y.iloc[i])\n",
        "  plt.imshow(X.values[i].reshape(28,28), cmap=plt.get_cmap('PuBu'))\n",
        "plt.show()"
      ],
      "metadata": {
        "colab": {
          "base_uri": "https://localhost:8080/",
          "height": 545
        },
        "id": "TZNoe-zi8weR",
        "outputId": "3fdce14c-04fa-40bf-bcad-a3e2d852d465"
      },
      "execution_count": 7,
      "outputs": [
        {
          "output_type": "display_data",
          "data": {
            "text/plain": [
              "<Figure size 1500x600 with 15 Axes>"
            ],
            "image/png": "[encoded data removed]"
          },
          "metadata": {}
        }
      ]
    },
    {
      "cell_type": "markdown",
      "source": [
        "We will be splitting the data into test and train datasets.\n"
      ],
      "metadata": {
        "id": "YvROUnRuHqYW"
      }
    },
    {
      "cell_type": "code",
      "source": [
        "#Using stratified sampling to get some distribution of classes in the train and test data\n",
        "X_train, X_test, y_train, y_test = train_test_split( X, y, test_size=0.25, random_state=42,stratify=y)"
      ],
      "metadata": {
        "id": "fRbBgTBU8yS-"
      },
      "execution_count": 8,
      "outputs": []
    },
    {
      "cell_type": "markdown",
      "source": [
        "Preparing the Training and Testing Dataset (Data Preprocessing)"
      ],
      "metadata": {
        "id": "vD5NG7atORoR"
      }
    },
    {
      "cell_type": "code",
      "source": [
        "#The original pixel values vary from 0 - 255, for neural network models we are squishing the range to 0 - 1\n",
        "X_train= (X_train.astype('float32'))/255.0\n",
        "X_test = (X_test.astype('float32'))/255.0"
      ],
      "metadata": {
        "id": "db8Jk0K285I_"
      },
      "execution_count": 9,
      "outputs": []
    },
    {
      "cell_type": "code",
      "source": [
        "#Now we encode the Y values using one hot encoder\n",
        "encode = OneHotEncoder(sparse=False,handle_unknown='ignore')\n",
        "y_train_encoded= encode.fit_transform(y_train.values.reshape(-1,1))\n",
        "y_test_encoded=  encode.transform(y_test.values.reshape(-1,1))"
      ],
      "metadata": {
        "id": "hAPHsPDd86Nd"
      },
      "execution_count": 10,
      "outputs": []
    },
    {
      "cell_type": "code",
      "source": [
        "X_train_norm=X_train.values.reshape(X_train.shape[0],28,28,1)\n",
        "X_test_norm=X_test.values.reshape(X_test.shape[0],28,28,1)"
      ],
      "metadata": {
        "id": "m-Bb3Nr0883n"
      },
      "execution_count": 11,
      "outputs": []
    },
    {
      "cell_type": "code",
      "source": [
        "from sklearn.preprocessing import LabelBinarizer\n",
        "lb = LabelBinarizer()\n",
        "y_train_label = lb.fit_transform(y_train)\n",
        "y_test_label = lb.transform(y_test)\n",
        "print('The training target shape is:',y_train_label.shape)\n",
        "print('The test target shape is:',y_test_label.shape)"
      ],
      "metadata": {
        "colab": {
          "base_uri": "https://localhost:8080/"
        },
        "id": "GMeCJhPy8_RT",
        "outputId": "526e948e-221e-49a8-a931-34b80d982317"
      },
      "execution_count": 12,
      "outputs": [
        {
          "output_type": "stream",
          "name": "stdout",
          "text": [
            "The training target shape is: (205569, 94)\n",
            "The test target shape is: (68524, 94)\n"
          ]
        }
      ]
    },
    {
      "cell_type": "code",
      "source": [
        "number_classes=df['labels'].nunique()"
      ],
      "metadata": {
        "id": "M4qZwSQ49BIK"
      },
      "execution_count": 13,
      "outputs": []
    },
    {
      "cell_type": "markdown",
      "source": [
        "#Building the model\n",
        "\n",
        "Convolutional Model (CNN Model) with 2 conv2D and MaxPooling2D Layers\n",
        "\n"
      ],
      "metadata": {
        "id": "532ukrfKI46I"
      }
    },
    {
      "cell_type": "code",
      "source": [
        "model = Sequential()\n",
        "model.add(Conv2D(128, (5, 5), activation='relu', input_shape=(28, 28,1)))\n",
        "model.add(MaxPooling2D((2, 2)))\n",
        "\n",
        "model.add(Conv2D(128, (3, 3), activation='relu'))\n",
        "model.add(MaxPooling2D((2, 2)))\n",
        "\n",
        "model.add(Conv2D(64, (3, 3), activation='relu'))\n",
        "model.add(MaxPooling2D((2, 2)))\n",
        "\n",
        "model.add(Flatten())\n",
        "model.add(Dense(64, activation='relu'))\n",
        "model.add(Dense(32, activation='relu'))\n",
        "model.add(Dense(number_classes, activation='softmax'))\n",
        "opt = Adam()\n",
        "model.compile(optimizer=opt, loss='categorical_crossentropy', metrics=['accuracy'])\n",
        "model.summary()"
      ],
      "metadata": {
        "colab": {
          "base_uri": "https://localhost:8080/"
        },
        "id": "r1srO1dP9J1C",
        "outputId": "64cfc27b-57e3-4fa0-8a8b-d8f30c01a385"
      },
      "execution_count": 14,
      "outputs": [
        {
          "output_type": "stream",
          "name": "stdout",
          "text": [
            "Model: \"sequential\"\n",
            "_________________________________________________________________\n",
            " Layer (type)                Output Shape              Param #   \n",
            "=================================================================\n",
            " conv2d (Conv2D)             (None, 24, 24, 128)       3328      \n",
            "                                                                 \n",
            " max_pooling2d (MaxPooling2  (None, 12, 12, 128)       0         \n",
            " D)                                                              \n",
            "                                                                 \n",
            " conv2d_1 (Conv2D)           (None, 10, 10, 128)       147584    \n",
            "                                                                 \n",
            " max_pooling2d_1 (MaxPoolin  (None, 5, 5, 128)         0         \n",
            " g2D)                                                            \n",
            "                                                                 \n",
            " conv2d_2 (Conv2D)           (None, 3, 3, 64)          73792     \n",
            "                                                                 \n",
            " max_pooling2d_2 (MaxPoolin  (None, 1, 1, 64)          0         \n",
            " g2D)                                                            \n",
            "                                                                 \n",
            " flatten (Flatten)           (None, 64)                0         \n",
            "                                                                 \n",
            " dense (Dense)               (None, 64)                4160      \n",
            "                                                                 \n",
            " dense_1 (Dense)             (None, 32)                2080      \n",
            "                                                                 \n",
            " dense_2 (Dense)             (None, 94)                3102      \n",
            "                                                                 \n",
            "=================================================================\n",
            "Total params: 234046 (914.24 KB)\n",
            "Trainable params: 234046 (914.24 KB)\n",
            "Non-trainable params: 0 (0.00 Byte)\n",
            "_________________________________________________________________\n"
          ]
        }
      ]
    },
    {
      "cell_type": "markdown",
      "source": [
        "Below, we have specified the batch_size as 64 and the epoch number as 10."
      ],
      "metadata": {
        "id": "i424mYPAQFK0"
      }
    },
    {
      "cell_type": "code",
      "source": [
        "model_history = model.fit(X_train_norm, y_train_encoded, epochs=10, validation_data=(X_test_norm, y_test_encoded), verbose=2,batch_size=64)"
      ],
      "metadata": {
        "colab": {
          "base_uri": "https://localhost:8080/"
        },
        "id": "JHnuqA079Mpu",
        "outputId": "7fe57724-7164-4cda-882e-cbb0c48093a8"
      },
      "execution_count": 15,
      "outputs": [
        {
          "output_type": "stream",
          "name": "stdout",
          "text": [
            "Epoch 1/10\n",
            "3213/3213 - 33s - loss: 0.8454 - accuracy: 0.7658 - val_loss: 0.4676 - val_accuracy: 0.8607 - 33s/epoch - 10ms/step\n",
            "Epoch 2/10\n",
            "3213/3213 - 19s - loss: 0.3952 - accuracy: 0.8795 - val_loss: 0.3459 - val_accuracy: 0.8961 - 19s/epoch - 6ms/step\n",
            "Epoch 3/10\n",
            "3213/3213 - 21s - loss: 0.3134 - accuracy: 0.9037 - val_loss: 0.3009 - val_accuracy: 0.9098 - 21s/epoch - 7ms/step\n",
            "Epoch 4/10\n",
            "3213/3213 - 19s - loss: 0.2686 - accuracy: 0.9164 - val_loss: 0.2718 - val_accuracy: 0.9173 - 19s/epoch - 6ms/step\n",
            "Epoch 5/10\n",
            "3213/3213 - 20s - loss: 0.2408 - accuracy: 0.9240 - val_loss: 0.2646 - val_accuracy: 0.9181 - 20s/epoch - 6ms/step\n",
            "Epoch 6/10\n",
            "3213/3213 - 21s - loss: 0.2217 - accuracy: 0.9289 - val_loss: 0.2655 - val_accuracy: 0.9198 - 21s/epoch - 7ms/step\n",
            "Epoch 7/10\n",
            "3213/3213 - 21s - loss: 0.2067 - accuracy: 0.9332 - val_loss: 0.2452 - val_accuracy: 0.9281 - 21s/epoch - 7ms/step\n",
            "Epoch 8/10\n",
            "3213/3213 - 21s - loss: 0.1941 - accuracy: 0.9363 - val_loss: 0.2426 - val_accuracy: 0.9276 - 21s/epoch - 7ms/step\n",
            "Epoch 9/10\n",
            "3213/3213 - 19s - loss: 0.1844 - accuracy: 0.9383 - val_loss: 0.2482 - val_accuracy: 0.9273 - 19s/epoch - 6ms/step\n",
            "Epoch 10/10\n",
            "3213/3213 - 21s - loss: 0.1752 - accuracy: 0.9408 - val_loss: 0.2460 - val_accuracy: 0.9281 - 21s/epoch - 7ms/step\n"
          ]
        }
      ]
    },
    {
      "cell_type": "code",
      "source": [
        "#Plotting the graphs of Accuracy vs Epochs and Loss vs Epochs\n",
        "plt.figure(figsize=(14, 6))\n",
        "plt.subplot(1,2,1)\n",
        "epochs=np.arange(10)\n",
        "plt.title('Accuracy vs Epochs')\n",
        "plt.plot(epochs,model_history.history['accuracy'],label='train', color='blue')\n",
        "plt.ylabel('Accuracy')\n",
        "plt.plot(epochs,model_history.history['val_accuracy'],label='test', color='yellow')\n",
        "plt.legend()\n",
        "plt.subplot(1,2,2)\n",
        "plt.title('Loss vs Epochs')\n",
        "plt.plot(epochs,model_history.history['loss'],label='train', color='red')\n",
        "plt.ylabel('Loss')\n",
        "plt.plot(epochs,model_history.history['val_loss'],label='test', color='pink')\n",
        "plt.legend()\n",
        "plt.show()"
      ],
      "metadata": {
        "colab": {
          "base_uri": "https://localhost:8080/",
          "height": 545
        },
        "id": "KOeS8fD09O4u",
        "outputId": "e5429782-d338-4bac-bc1a-10393d0ee3ed"
      },
      "execution_count": 16,
      "outputs": [
        {
          "output_type": "display_data",
          "data": {
            "text/plain": [
              "<Figure size 1400x600 with 2 Axes>"
            ],
            "image/png": "[encoded data removed]"
          },
          "metadata": {}
        }
      ]
    },
    {
      "cell_type": "markdown",
      "source": [
        "As we progress through each epoch, we have noticed a gradual improvement in the accuracy of the training data. Interestingly, when we compare it with the test data, we have observed that the accuracy of the latter starts at a higher point compared to that of the former.\n",
        "\n",
        "As the neural network is trained over multiple epochs, we can observe a gradual reduction in the amount of error or loss in the training and test datasets. This indicates that the model is learning to make more accurate predictions over time, resulting in better performance when tested against new data."
      ],
      "metadata": {
        "id": "tQhxmhTfPFH_"
      }
    },
    {
      "cell_type": "code",
      "source": [
        "#Evaluating model accuracy on test data\n",
        "score = model.evaluate(X_test_norm, y_test_encoded, batch_size = 64,verbose = 2)\n",
        "basicmodelAccuracy=round(score[1],4)*100\n",
        "print(f\"Test Accuracy:{basicmodelAccuracy}%\")"
      ],
      "metadata": {
        "colab": {
          "base_uri": "https://localhost:8080/"
        },
        "id": "yYCadTgV9Q-M",
        "outputId": "6873f516-59b2-4223-e716-3b7d34ff6c3f"
      },
      "execution_count": 17,
      "outputs": [
        {
          "output_type": "stream",
          "name": "stdout",
          "text": [
            "1071/1071 - 4s - loss: 0.2460 - accuracy: 0.9281 - 4s/epoch - 3ms/step\n",
            "Test Accuracy:92.81%\n"
          ]
        }
      ]
    },
    {
      "cell_type": "markdown",
      "source": [
        "This study has achieved an impressive accuracy rate of approximately 92.81% on the test set. This advancement in the field has surpassed the previous state-of-the-art methods, and the results demonstrate the effectiveness of CNNs in real-world applications."
      ],
      "metadata": {
        "id": "Cy-CQxUKO82i"
      }
    },
    {
      "cell_type": "markdown",
      "source": [
        "##**Conclusion:**\n",
        "This study demonstrates the capability of Convolutional Neural Network (CNN) based methods for automated character recognition systems, specifically for typography classification on the difficult MNIST dataset that comprises of 94 alphabets. The suggested model employs a deep CNN architecture with several convolutional and pooling layers, along with data augmentation techniques, to account for the variability in the dataset.\n",
        "\n",
        "With an exceptional accuracy rate of 92.81%, we can confirm the effectiveness of CNNs in real-world applications."
      ],
      "metadata": {
        "id": "XI0Zc3hXQcmg"
      }
    },
    {
      "cell_type": "markdown",
      "source": [
        "##**References:**\n",
        "- https://www.analyticsvidhya.com/blog/2021/05/convolutional-neural-networks-cnn/\n",
        "- https://www.tensorflow.org/api_docs/python/tf\n",
        "- https://towardsdatascience.com/convolutional-neural-networks-explained-9cc5188c4939\n",
        "- https://www.kaggle.com/code/sheshngupta/tminst-character-recognition-94-4-accuracy\n",
        "\n",
        "80% code is written by me with the other 20% referenced and modified from various sources such as Stackoverflow, and github."
      ],
      "metadata": {
        "id": "WaQuDtW7Q4CP"
      }
    },
    {
      "cell_type": "markdown",
      "source": [
        "#**License**\n",
        "\n",
        "Copyright 2023 akshitapathania7\n",
        "\n",
        "Permission is hereby granted, free of charge, to any person obtaining a copy of this software and associated documentation files (the \"Software\"), to deal in the Software without restriction, including without limitation the rights to use, copy, modify, merge, publish, distribute, sublicense, and/or sell copies of the Software, and to permit persons to whom the Software is furnished to do so, subject to the following conditions:\n",
        "\n",
        "The above copyright notice and this permission notice shall be included in all copies or substantial portions of the Software.\n",
        "\n",
        "THE SOFTWARE IS PROVIDED \"AS IS\", WITHOUT WARRANTY OF ANY KIND, EXPRESS OR IMPLIED, INCLUDING BUT NOT LIMITED TO THE WARRANTIES OF MERCHANTABILITY, FITNESS FOR A PARTICULAR PURPOSE AND NONINFRINGEMENT. IN NO EVENT SHALL THE AUTHORS OR COPYRIGHT HOLDERS BE LIABLE FOR ANY CLAIM, DAMAGES OR OTHER LIABILITY, WHETHER IN AN ACTION OF CONTRACT, TORT OR OTHERWISE, ARISING FROM, OUT OF OR IN CONNECTION WITH THE SOFTWARE OR THE USE OR OTHER DEALINGS IN THE SOFTWARE."
      ],
      "metadata": {
        "id": "YoRLrAi9SGw0"
      }
    }
  ]
}